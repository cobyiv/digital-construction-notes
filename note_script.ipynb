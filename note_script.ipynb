{
 "cells": [
  {
   "cell_type": "code",
   "execution_count": 5,
   "metadata": {},
   "outputs": [],
   "source": [
    "# IMPORTS\n",
    "\n",
    "import dotenv\n",
    "import os\n",
    "import re"
   ]
  },
  {
   "cell_type": "code",
   "execution_count": 8,
   "metadata": {},
   "outputs": [],
   "source": [
    "# CONSTANTS\n",
    "\n",
    "base_path = os.path.dirname(dotenv.find_dotenv())\n",
    "assetFolder = \"assets\"\n",
    "assetPath = os.path.join(base_path, assetFolder)\n",
    "assetSuffix = \"___assets\""
   ]
  },
  {
   "cell_type": "code",
   "execution_count": 3,
   "metadata": {},
   "outputs": [],
   "source": [
    "# FUNCTIONS\n",
    "\n",
    "def listFileByType(directory,extension):\n",
    "    '''returns a list of files that have the extension in the given directory'''\n",
    "    return [file for file in os.listdir(directory) if os.path.splitext(file)[1] == extension]\n",
    "\n",
    "def extractFileNames(files):\n",
    "    '''returns the file names without extension given a list of files'''\n",
    "    return [os.path.splitext(i)[0] for i in files]\n",
    "\n",
    "def createNamesWithSuffix(string_list,suffix):\n",
    "    '''returns a string with an appended suffix'''\n",
    "    return [i + suffix for i in string_list]"
   ]
  },
  {
   "cell_type": "code",
   "execution_count": 6,
   "metadata": {},
   "outputs": [],
   "source": [
    "# GRAB MARKDOWN FILES\n",
    "\n",
    "markdownFiles = listFileByType(base_path,\".md\")\n",
    "\n",
    "markdownNames = extractFileNames(markdownFiles)\n",
    "\n",
    "markdownAssetFolders = createNamesWithSuffix(markdownNames,assetSuffix)"
   ]
  },
  {
   "cell_type": "markdown",
   "metadata": {},
   "source": [
    "## Check to see if each .md has Assets folder"
   ]
  },
  {
   "cell_type": "code",
   "execution_count": 7,
   "metadata": {},
   "outputs": [
    {
     "data": {
      "text/plain": [
       "['Bitwarden___assets', 'Point Cloud and Revit Model Alignment___assets']"
      ]
     },
     "execution_count": 7,
     "metadata": {},
     "output_type": "execute_result"
    }
   ],
   "source": [
    "\n",
    "[i for i in os.listdir(assetPath)]"
   ]
  },
  {
   "cell_type": "markdown",
   "metadata": {},
   "source": [
    "## Create assets folder as necessary"
   ]
  },
  {
   "cell_type": "code",
   "execution_count": null,
   "metadata": {},
   "outputs": [],
   "source": []
  },
  {
   "cell_type": "markdown",
   "metadata": {},
   "source": [
    "## Grab the correct basepath for Github repo"
   ]
  },
  {
   "cell_type": "code",
   "execution_count": null,
   "metadata": {},
   "outputs": [],
   "source": []
  },
  {
   "cell_type": "markdown",
   "metadata": {},
   "source": [
    "## Within each .MD check to see if each picture is being referenced locally or from Github"
   ]
  },
  {
   "cell_type": "code",
   "execution_count": 10,
   "metadata": {},
   "outputs": [],
   "source": [
    "with open(markdownFiles[0]) as f:\n",
    "    contents = f.readlines()\n"
   ]
  },
  {
   "cell_type": "code",
   "execution_count": 11,
   "metadata": {},
   "outputs": [
    {
     "data": {
      "text/plain": [
       "['# Dev Ops\\n',\n",
       " '\\n',\n",
       " '## Bitwarden Setup\\n',\n",
       " '\\n',\n",
       " '1. go to [Bitwarden](https://bitwarden.com/) and sign up for an account. **Master Password Note:** Use a *very* strong master password (>12 characters, upper/lower, special character, number, letters) and make it so you can easily remember it. <u>Example</u>: John Doe likes Beethoven --> J0hn*D03&B33!h0v3n\\n',\n",
       " \"2. Install the Browser extension to either Firefox, Chrome or Brave browsers. **Chrome/ Brave Note:** on chrome or brave you must select the 'puzzle' icon in top right and then 'pin' the Bitwarden extension after it is installed.\\n\",\n",
       " '\\n',\n",
       " '<img src=\"https://github.com/cobyiv/digital-construction-notes/blob/master/assets/Bitwarden___assets/image-20220821103210422.png?raw=true\" alt=\"image-20220801141602654\" style=\"zoom:100%;\" />\\n',\n",
       " '\\n',\n",
       " '3. Login in to Bitwarden\\n',\n",
       " '\\n',\n",
       " '  <img src=\"https://github.com/cobyiv/digital-construction-notes/blob/master/assets/Bitwarden___assets/image-20220821103316545.png?raw=true\" alt=\"image-20220801141602654\" style=\"zoom:100%;\" />\\n',\n",
       " '\\n',\n",
       " '4. After logging in go to settings and for convenience sake set (iii) Vault timeout = never (iv) = vault timeout action ,(v) unlock with pin (vi) when setting pin *uncheck* lock with master passwork\\n',\n",
       " '\\n',\n",
       " '<img src=\"https://github.com/cobyiv/digital-construction-notes/blob/master/assets/Bitwarden___assets/image-20220821103820986.png?raw=true\" alt=\"image-20220801141602654\" style=\"zoom:100%;\" />\\n',\n",
       " '\\n',\n",
       " '<img src=\"https://github.com/cobyiv/digital-construction-notes/blob/master/assets/Bitwarden___assets/image-20220821103935549.png?raw=true\" alt=\"image-20220801141602654\" style=\"zoom:100%;\" />\\n',\n",
       " '\\n',\n",
       " \"5. usage. when using, sometimes it is easier to **pop out** the extension (arrow icon on upper right) to allow for persistence while making additions. modifications. To add entries you can either press (**+**) icon or you can press the 'save' button that appears naturally when adding credentials to website (be sure NOT to use the browsers own save)\\n\",\n",
       " '\\n',\n",
       " '<img src=\"https://github.com/cobyiv/digital-construction-notes/blob/master/assets/Bitwarden___assets/image-20220821104338870.png?raw=true\" alt=\"image-20220801141602654\" style=\"zoom:100%;\" />\\n',\n",
       " '\\n',\n",
       " '6. Types of Entries:\\n',\n",
       " '\\n',\n",
       " \"   a. Secure note: Consider using notes which are not associated with specific websites, the 'custom fields' can also be used:\\n\",\n",
       " '   \\n',\n",
       " '\\n',\n",
       " '   <img src=\"https://github.com/cobyiv/digital-construction-notes/blob/master/assets/Bitwarden___assets/image-20220821104605666.png?raw=true\" alt=\"image-20220801141602654\" style=\"zoom:100%;\" />\\n',\n",
       " '\\n',\n",
       " \"   b. **Existing Login:** a standard login can be auto-entered if it is stored in your bitwarden account and you just click on the icon when you get to the login screen. Note that the login must be associated with the URL. if the beginning of the URL does not match the 'Website' field then will not auto-associate and you will have to search for it.\\n\",\n",
       " '   <img src=\"https://github.com/cobyiv/digital-construction-notes/blob/master/assets/Bitwarden___assets/image-20220821105025292.png?raw=true\" alt=\"image-20220801141602654\" style=\"zoom:100%;\" />\\n',\n",
       " '   \\n',\n",
       " '   c. **New Login:** when making new logins, open up the manager and (1) generate a password (2.) configure strong password settings, (3) select password (4) save the entry (5) then click on Bitwarden icon to enter the password into the registration form field.\\n',\n",
       " '   \\n',\n",
       " '   <img src=\"https://github.com/cobyiv/digital-construction-notes/blob/master/assets/Bitwarden___assets/image-20220821105554192.png?raw=true\" alt=\"image-20220801141602654\" style=\"zoom:100%;\" />\\n',\n",
       " '   \\n',\n",
       " '   \\n',\n",
       " '   \\n',\n",
       " '   <img src=\"https://github.com/cobyiv/digital-construction-notes/blob/master/assets/Bitwarden___assets/image-20220821105519827.png?raw=true\" alt=\"image-20220801141602654\" style=\"zoom:100%;\" />']"
      ]
     },
     "execution_count": 11,
     "metadata": {},
     "output_type": "execute_result"
    }
   ],
   "source": [
    "contents"
   ]
  },
  {
   "cell_type": "code",
   "execution_count": null,
   "metadata": {},
   "outputs": [],
   "source": []
  }
 ],
 "metadata": {
  "kernelspec": {
   "display_name": "Python 3.9.0 64-bit",
   "language": "python",
   "name": "python3"
  },
  "language_info": {
   "codemirror_mode": {
    "name": "ipython",
    "version": 3
   },
   "file_extension": ".py",
   "mimetype": "text/x-python",
   "name": "python",
   "nbconvert_exporter": "python",
   "pygments_lexer": "ipython3",
   "version": "3.9.0"
  },
  "orig_nbformat": 4,
  "vscode": {
   "interpreter": {
    "hash": "81794d4967e6c3204c66dcd87b604927b115b27c00565d3d43f05ba2f3a2cb0d"
   }
  }
 },
 "nbformat": 4,
 "nbformat_minor": 2
}
