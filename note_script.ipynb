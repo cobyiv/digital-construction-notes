{
 "cells": [
  {
   "cell_type": "code",
   "execution_count": 63,
   "metadata": {},
   "outputs": [],
   "source": [
    "# IMPORTS\n",
    "\n",
    "import dotenv\n",
    "import os"
   ]
  },
  {
   "cell_type": "code",
   "execution_count": 64,
   "metadata": {},
   "outputs": [],
   "source": [
    "# CONSTANTS\n",
    "\n",
    "base_path = os.path.dirname(dotenv.find_dotenv())\n",
    "assetFolder = \"assets\"\n",
    "assetPath = os.path.join(base_path, assetFolder)\n",
    "assetSuffix = \"___assets\""
   ]
  },
  {
   "cell_type": "code",
   "execution_count": 76,
   "metadata": {},
   "outputs": [],
   "source": [
    "# FUNCTIONS\n",
    "\n",
    "def listFileByType(directory,extension):\n",
    "    '''returns a list of files that have the extension in the given directory'''\n",
    "    return [file for file in os.listdir(directory) if os.path.splitext(file)[1] == extension]\n",
    "\n",
    "def extractFileNames(files):\n",
    "    '''returns the file names without extension given a list of files'''\n",
    "    return [os.path.splitext(i)[0] for i in files]\n",
    "\n",
    "def createNamesWithSuffix(string_list,suffix):\n",
    "    '''returns a string with an appended suffix'''\n",
    "    return [i + suffix for i in string_list]"
   ]
  },
  {
   "cell_type": "code",
   "execution_count": 78,
   "metadata": {},
   "outputs": [
    {
     "data": {
      "text/plain": [
       "['Bitwarden___assets',\n",
       " 'Point Cloud and Revit Model Alignment___assets',\n",
       " 'Readme___assets']"
      ]
     },
     "execution_count": 78,
     "metadata": {},
     "output_type": "execute_result"
    }
   ],
   "source": [
    "# GRAB MARKDOWN FILES\n",
    "\n",
    "markdownFiles = listFileByType(base_path,\".md\")\n",
    "\n",
    "markdownNames = extractFileNames(markdownFiles)\n",
    "\n",
    "markdownAssetFolders = createNamesWithSuffix(markdownNames,assetSuffix)"
   ]
  },
  {
   "cell_type": "markdown",
   "metadata": {},
   "source": [
    "## Check to see if each .md has Assets folder"
   ]
  },
  {
   "cell_type": "code",
   "execution_count": 72,
   "metadata": {},
   "outputs": [
    {
     "data": {
      "text/plain": [
       "['Bitwarden___assets', 'Point Cloud and Revit Model Alignment___assets']"
      ]
     },
     "execution_count": 72,
     "metadata": {},
     "output_type": "execute_result"
    }
   ],
   "source": [
    "\n",
    "[i for i in os.listdir(assetPath)]"
   ]
  },
  {
   "cell_type": "markdown",
   "metadata": {},
   "source": [
    "## Create assets folder as necessary"
   ]
  },
  {
   "cell_type": "code",
   "execution_count": null,
   "metadata": {},
   "outputs": [],
   "source": []
  },
  {
   "cell_type": "markdown",
   "metadata": {},
   "source": [
    "## Grab the correct basepath for Github repo"
   ]
  },
  {
   "cell_type": "code",
   "execution_count": null,
   "metadata": {},
   "outputs": [],
   "source": []
  },
  {
   "cell_type": "markdown",
   "metadata": {},
   "source": [
    "## Within each .MD check to see if each picture is being referenced locally or from Github"
   ]
  },
  {
   "cell_type": "markdown",
   "metadata": {},
   "source": []
  }
 ],
 "metadata": {
  "kernelspec": {
   "display_name": "Python 3.9.0 64-bit",
   "language": "python",
   "name": "python3"
  },
  "language_info": {
   "codemirror_mode": {
    "name": "ipython",
    "version": 3
   },
   "file_extension": ".py",
   "mimetype": "text/x-python",
   "name": "python",
   "nbconvert_exporter": "python",
   "pygments_lexer": "ipython3",
   "version": "3.9.0"
  },
  "orig_nbformat": 4,
  "vscode": {
   "interpreter": {
    "hash": "81794d4967e6c3204c66dcd87b604927b115b27c00565d3d43f05ba2f3a2cb0d"
   }
  }
 },
 "nbformat": 4,
 "nbformat_minor": 2
}
